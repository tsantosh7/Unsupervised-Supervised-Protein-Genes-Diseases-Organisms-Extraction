{
  "nbformat": 4,
  "nbformat_minor": 0,
  "metadata": {
    "colab": {
      "provenance": [],
      "authorship_tag": "ABX9TyMQwPxSxBsLxZiigFecPapU",
      "include_colab_link": true
    },
    "kernelspec": {
      "name": "python3",
      "display_name": "Python 3"
    },
    "language_info": {
      "name": "python"
    }
  },
  "cells": [
    {
      "cell_type": "markdown",
      "metadata": {
        "id": "view-in-github",
        "colab_type": "text"
      },
      "source": [
        "<a href=\"https://colab.research.google.com/github/tsantosh7/Unsupervised-Supervised-Protein-Genes-Diseases-Organisms-Extraction/blob/master/Notebooks/metagenomics_annotations/post_EuropePMC.ipynb\" target=\"_parent\"><img src=\"https://colab.research.google.com/assets/colab-badge.svg\" alt=\"Open In Colab\"/></a>"
      ]
    },
    {
      "cell_type": "code",
      "execution_count": 1,
      "metadata": {
        "colab": {
          "base_uri": "https://localhost:8080/",
          "height": 328
        },
        "id": "FEF9P2KKIuQo",
        "outputId": "440d66b2-941b-49e7-a99c-aa5d5d800df9"
      },
      "outputs": [
        {
          "output_type": "error",
          "ename": "JSONDecodeError",
          "evalue": "ignored",
          "traceback": [
            "\u001b[0;31m---------------------------------------------------------------------------\u001b[0m",
            "\u001b[0;31mJSONDecodeError\u001b[0m                           Traceback (most recent call last)",
            "\u001b[0;32m<ipython-input-1-b5df4ba6a14f>\u001b[0m in \u001b[0;36m<cell line: 26>\u001b[0;34m()\u001b[0m\n\u001b[1;32m     25\u001b[0m \u001b[0;34m\u001b[0m\u001b[0m\n\u001b[1;32m     26\u001b[0m \u001b[0;32mif\u001b[0m \u001b[0m__name__\u001b[0m \u001b[0;34m==\u001b[0m \u001b[0;34m\"__main__\"\u001b[0m\u001b[0;34m:\u001b[0m\u001b[0;34m\u001b[0m\u001b[0;34m\u001b[0m\u001b[0m\n\u001b[0;32m---> 27\u001b[0;31m     \u001b[0mpost_query_to_europepmc\u001b[0m\u001b[0;34m(\u001b[0m\u001b[0;34m)\u001b[0m\u001b[0;34m\u001b[0m\u001b[0;34m\u001b[0m\u001b[0m\n\u001b[0m",
            "\u001b[0;32m<ipython-input-1-b5df4ba6a14f>\u001b[0m in \u001b[0;36mpost_query_to_europepmc\u001b[0;34m()\u001b[0m\n\u001b[1;32m     14\u001b[0m \u001b[0;34m\u001b[0m\u001b[0m\n\u001b[1;32m     15\u001b[0m         \u001b[0;31m# Process the response data\u001b[0m\u001b[0;34m\u001b[0m\u001b[0;34m\u001b[0m\u001b[0m\n\u001b[0;32m---> 16\u001b[0;31m         \u001b[0mdata\u001b[0m \u001b[0;34m=\u001b[0m \u001b[0mresponse\u001b[0m\u001b[0;34m.\u001b[0m\u001b[0mjson\u001b[0m\u001b[0;34m(\u001b[0m\u001b[0;34m)\u001b[0m\u001b[0;34m\u001b[0m\u001b[0;34m\u001b[0m\u001b[0m\n\u001b[0m\u001b[1;32m     17\u001b[0m \u001b[0;34m\u001b[0m\u001b[0m\n\u001b[1;32m     18\u001b[0m         \u001b[0;31m# Do something with the data...\u001b[0m\u001b[0;34m\u001b[0m\u001b[0;34m\u001b[0m\u001b[0m\n",
            "\u001b[0;32m/usr/local/lib/python3.10/dist-packages/requests/models.py\u001b[0m in \u001b[0;36mjson\u001b[0;34m(self, **kwargs)\u001b[0m\n\u001b[1;32m    897\u001b[0m             \u001b[0;32mif\u001b[0m \u001b[0mencoding\u001b[0m \u001b[0;32mis\u001b[0m \u001b[0;32mnot\u001b[0m \u001b[0;32mNone\u001b[0m\u001b[0;34m:\u001b[0m\u001b[0;34m\u001b[0m\u001b[0;34m\u001b[0m\u001b[0m\n\u001b[1;32m    898\u001b[0m                 \u001b[0;32mtry\u001b[0m\u001b[0;34m:\u001b[0m\u001b[0;34m\u001b[0m\u001b[0;34m\u001b[0m\u001b[0m\n\u001b[0;32m--> 899\u001b[0;31m                     return complexjson.loads(\n\u001b[0m\u001b[1;32m    900\u001b[0m                         \u001b[0mself\u001b[0m\u001b[0;34m.\u001b[0m\u001b[0mcontent\u001b[0m\u001b[0;34m.\u001b[0m\u001b[0mdecode\u001b[0m\u001b[0;34m(\u001b[0m\u001b[0mencoding\u001b[0m\u001b[0;34m)\u001b[0m\u001b[0;34m,\u001b[0m \u001b[0;34m**\u001b[0m\u001b[0mkwargs\u001b[0m\u001b[0;34m\u001b[0m\u001b[0;34m\u001b[0m\u001b[0m\n\u001b[1;32m    901\u001b[0m                     )\n",
            "\u001b[0;32m/usr/lib/python3.10/json/__init__.py\u001b[0m in \u001b[0;36mloads\u001b[0;34m(s, cls, object_hook, parse_float, parse_int, parse_constant, object_pairs_hook, **kw)\u001b[0m\n\u001b[1;32m    344\u001b[0m             \u001b[0mparse_int\u001b[0m \u001b[0;32mis\u001b[0m \u001b[0;32mNone\u001b[0m \u001b[0;32mand\u001b[0m \u001b[0mparse_float\u001b[0m \u001b[0;32mis\u001b[0m \u001b[0;32mNone\u001b[0m \u001b[0;32mand\u001b[0m\u001b[0;34m\u001b[0m\u001b[0;34m\u001b[0m\u001b[0m\n\u001b[1;32m    345\u001b[0m             parse_constant is None and object_pairs_hook is None and not kw):\n\u001b[0;32m--> 346\u001b[0;31m         \u001b[0;32mreturn\u001b[0m \u001b[0m_default_decoder\u001b[0m\u001b[0;34m.\u001b[0m\u001b[0mdecode\u001b[0m\u001b[0;34m(\u001b[0m\u001b[0ms\u001b[0m\u001b[0;34m)\u001b[0m\u001b[0;34m\u001b[0m\u001b[0;34m\u001b[0m\u001b[0m\n\u001b[0m\u001b[1;32m    347\u001b[0m     \u001b[0;32mif\u001b[0m \u001b[0mcls\u001b[0m \u001b[0;32mis\u001b[0m \u001b[0;32mNone\u001b[0m\u001b[0;34m:\u001b[0m\u001b[0;34m\u001b[0m\u001b[0;34m\u001b[0m\u001b[0m\n\u001b[1;32m    348\u001b[0m         \u001b[0mcls\u001b[0m \u001b[0;34m=\u001b[0m \u001b[0mJSONDecoder\u001b[0m\u001b[0;34m\u001b[0m\u001b[0;34m\u001b[0m\u001b[0m\n",
            "\u001b[0;32m/usr/lib/python3.10/json/decoder.py\u001b[0m in \u001b[0;36mdecode\u001b[0;34m(self, s, _w)\u001b[0m\n\u001b[1;32m    335\u001b[0m \u001b[0;34m\u001b[0m\u001b[0m\n\u001b[1;32m    336\u001b[0m         \"\"\"\n\u001b[0;32m--> 337\u001b[0;31m         \u001b[0mobj\u001b[0m\u001b[0;34m,\u001b[0m \u001b[0mend\u001b[0m \u001b[0;34m=\u001b[0m \u001b[0mself\u001b[0m\u001b[0;34m.\u001b[0m\u001b[0mraw_decode\u001b[0m\u001b[0;34m(\u001b[0m\u001b[0ms\u001b[0m\u001b[0;34m,\u001b[0m \u001b[0midx\u001b[0m\u001b[0;34m=\u001b[0m\u001b[0m_w\u001b[0m\u001b[0;34m(\u001b[0m\u001b[0ms\u001b[0m\u001b[0;34m,\u001b[0m \u001b[0;36m0\u001b[0m\u001b[0;34m)\u001b[0m\u001b[0;34m.\u001b[0m\u001b[0mend\u001b[0m\u001b[0;34m(\u001b[0m\u001b[0;34m)\u001b[0m\u001b[0;34m)\u001b[0m\u001b[0;34m\u001b[0m\u001b[0;34m\u001b[0m\u001b[0m\n\u001b[0m\u001b[1;32m    338\u001b[0m         \u001b[0mend\u001b[0m \u001b[0;34m=\u001b[0m \u001b[0m_w\u001b[0m\u001b[0;34m(\u001b[0m\u001b[0ms\u001b[0m\u001b[0;34m,\u001b[0m \u001b[0mend\u001b[0m\u001b[0;34m)\u001b[0m\u001b[0;34m.\u001b[0m\u001b[0mend\u001b[0m\u001b[0;34m(\u001b[0m\u001b[0;34m)\u001b[0m\u001b[0;34m\u001b[0m\u001b[0;34m\u001b[0m\u001b[0m\n\u001b[1;32m    339\u001b[0m         \u001b[0;32mif\u001b[0m \u001b[0mend\u001b[0m \u001b[0;34m!=\u001b[0m \u001b[0mlen\u001b[0m\u001b[0;34m(\u001b[0m\u001b[0ms\u001b[0m\u001b[0;34m)\u001b[0m\u001b[0;34m:\u001b[0m\u001b[0;34m\u001b[0m\u001b[0;34m\u001b[0m\u001b[0m\n",
            "\u001b[0;32m/usr/lib/python3.10/json/decoder.py\u001b[0m in \u001b[0;36mraw_decode\u001b[0;34m(self, s, idx)\u001b[0m\n\u001b[1;32m    353\u001b[0m             \u001b[0mobj\u001b[0m\u001b[0;34m,\u001b[0m \u001b[0mend\u001b[0m \u001b[0;34m=\u001b[0m \u001b[0mself\u001b[0m\u001b[0;34m.\u001b[0m\u001b[0mscan_once\u001b[0m\u001b[0;34m(\u001b[0m\u001b[0ms\u001b[0m\u001b[0;34m,\u001b[0m \u001b[0midx\u001b[0m\u001b[0;34m)\u001b[0m\u001b[0;34m\u001b[0m\u001b[0;34m\u001b[0m\u001b[0m\n\u001b[1;32m    354\u001b[0m         \u001b[0;32mexcept\u001b[0m \u001b[0mStopIteration\u001b[0m \u001b[0;32mas\u001b[0m \u001b[0merr\u001b[0m\u001b[0;34m:\u001b[0m\u001b[0;34m\u001b[0m\u001b[0;34m\u001b[0m\u001b[0m\n\u001b[0;32m--> 355\u001b[0;31m             \u001b[0;32mraise\u001b[0m \u001b[0mJSONDecodeError\u001b[0m\u001b[0;34m(\u001b[0m\u001b[0;34m\"Expecting value\"\u001b[0m\u001b[0;34m,\u001b[0m \u001b[0ms\u001b[0m\u001b[0;34m,\u001b[0m \u001b[0merr\u001b[0m\u001b[0;34m.\u001b[0m\u001b[0mvalue\u001b[0m\u001b[0;34m)\u001b[0m \u001b[0;32mfrom\u001b[0m \u001b[0;32mNone\u001b[0m\u001b[0;34m\u001b[0m\u001b[0;34m\u001b[0m\u001b[0m\n\u001b[0m\u001b[1;32m    356\u001b[0m         \u001b[0;32mreturn\u001b[0m \u001b[0mobj\u001b[0m\u001b[0;34m,\u001b[0m \u001b[0mend\u001b[0m\u001b[0;34m\u001b[0m\u001b[0;34m\u001b[0m\u001b[0m\n",
            "\u001b[0;31mJSONDecodeError\u001b[0m: Expecting value: line 1 column 1 (char 0)"
          ]
        }
      ],
      "source": [
        "import requests\n",
        "\n",
        "def post_query_to_europepmc():\n",
        "    url = \"https://www.ebi.ac.uk/europepmc/webservices/rest/searchPOST\"\n",
        "    query_params = {\n",
        "        \"query\": \"ext_id:'21342591' OR ext_id:'15684057'\",\n",
        "        \"resultType\": \"lite\",\n",
        "        \"pageSize\": 10,\n",
        "        \"format\":\"json\"\n",
        "    }\n",
        "\n",
        "    try:\n",
        "        response = requests.post(url, data=query_params)\n",
        "        response.raise_for_status()  # Check for any errors in the response\n",
        "\n",
        "        # Process the response data\n",
        "        data = response.json()\n",
        "\n",
        "        # Do something with the data...\n",
        "        # For example, print the titles of the first 10 articles returned\n",
        "        for article in data[\"resultList\"][\"result\"]:\n",
        "            print(article[\"title\"])\n",
        "\n",
        "    except requests.exceptions.RequestException as e:\n",
        "        print(f\"Error occurred: {e}\")\n",
        "\n",
        "if __name__ == \"__main__\":\n",
        "    post_query_to_europepmc()"
      ]
    },
    {
      "cell_type": "code",
      "source": [
        "url = \"https://www.ebi.ac.uk/europepmc/webservices/rest/searchPOST\"\n",
        "query_params = {\n",
        "    \"query\": 'ext_id:21342591 OR ext_id:15684057',\n",
        "    # \"resultType\": \"core\",\n",
        "    \"pageSize\": 10,\n",
        "    \"format\":\"json\"\n",
        "}"
      ],
      "metadata": {
        "id": "zNXiak8TJUAR"
      },
      "execution_count": 27,
      "outputs": []
    },
    {
      "cell_type": "code",
      "source": [
        "response = requests.post(url, data=query_params)"
      ],
      "metadata": {
        "id": "fDchoPSiJqYb"
      },
      "execution_count": 28,
      "outputs": []
    },
    {
      "cell_type": "code",
      "source": [
        "response.json()"
      ],
      "metadata": {
        "colab": {
          "base_uri": "https://localhost:8080/"
        },
        "id": "XzwrvteKJsN6",
        "outputId": "2d8f13af-4617-42c1-99dd-ccc61079aaf1"
      },
      "execution_count": 29,
      "outputs": [
        {
          "output_type": "execute_result",
          "data": {
            "text/plain": [
              "{'version': '6.8',\n",
              " 'hitCount': 2,\n",
              " 'request': {'queryString': 'ext_id:21342591 OR ext_id:15684057',\n",
              "  'resultType': 'lite',\n",
              "  'cursorMark': '*',\n",
              "  'pageSize': 10,\n",
              "  'sort': '',\n",
              "  'synonym': False},\n",
              " 'resultList': {'result': [{'id': '21342591',\n",
              "    'source': 'MED',\n",
              "    'pmid': '21342591',\n",
              "    'pmcid': 'PMC3044316',\n",
              "    'fullTextIdList': {'fullTextId': ['PMC3044316']},\n",
              "    'doi': '10.1186/1471-2105-12-s1-s8',\n",
              "    'title': 'Ontology-based instance data validation for high-quality curated biological pathways.',\n",
              "    'authorString': 'Jeong E, Nagasaki M, Ueno K, Miyano S.',\n",
              "    'journalTitle': 'BMC Bioinformatics',\n",
              "    'journalVolume': '12 Suppl 1',\n",
              "    'pubYear': '2011',\n",
              "    'journalIssn': '1471-2105',\n",
              "    'pageInfo': 'S8',\n",
              "    'pubType': 'research-article; journal article',\n",
              "    'isOpenAccess': 'Y',\n",
              "    'inEPMC': 'Y',\n",
              "    'inPMC': 'N',\n",
              "    'hasPDF': 'Y',\n",
              "    'hasBook': 'N',\n",
              "    'hasSuppl': 'Y',\n",
              "    'citedByCount': 3,\n",
              "    'hasReferences': 'Y',\n",
              "    'hasTextMinedTerms': 'Y',\n",
              "    'hasDbCrossReferences': 'N',\n",
              "    'hasLabsLinks': 'Y',\n",
              "    'hasTMAccessionNumbers': 'N',\n",
              "    'firstIndexDate': '2011-03-05',\n",
              "    'firstPublicationDate': '2011-02-15'},\n",
              "   {'id': '15684057',\n",
              "    'source': 'MED',\n",
              "    'pmid': '15684057',\n",
              "    'pmcid': 'PMC548550',\n",
              "    'fullTextIdList': {'fullTextId': ['PMC548550']},\n",
              "    'doi': '10.1073/pnas.0408383102',\n",
              "    'title': 'Fluid-flow-induced flutter of a flag.',\n",
              "    'authorString': 'Argentina M, Mahadevan L.',\n",
              "    'journalTitle': 'Proc Natl Acad Sci U S A',\n",
              "    'issue': '6',\n",
              "    'journalVolume': '102',\n",
              "    'pubYear': '2005',\n",
              "    'journalIssn': '0027-8424; 1091-6490; ',\n",
              "    'pageInfo': '1829-1834',\n",
              "    'pubType': 'research-article; journal article',\n",
              "    'isOpenAccess': 'N',\n",
              "    'inEPMC': 'Y',\n",
              "    'inPMC': 'N',\n",
              "    'hasPDF': 'Y',\n",
              "    'hasBook': 'N',\n",
              "    'hasSuppl': 'N',\n",
              "    'citedByCount': 21,\n",
              "    'hasReferences': 'Y',\n",
              "    'hasTextMinedTerms': 'Y',\n",
              "    'hasDbCrossReferences': 'N',\n",
              "    'hasLabsLinks': 'Y',\n",
              "    'hasTMAccessionNumbers': 'N',\n",
              "    'firstIndexDate': '2009-12-23',\n",
              "    'firstPublicationDate': '2005-01-31'}]}}"
            ]
          },
          "metadata": {},
          "execution_count": 29
        }
      ]
    }
  ]
}